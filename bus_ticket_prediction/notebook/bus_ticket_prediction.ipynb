{
   "cells": [
      {
         "cell_type": "markdown",
         "metadata": {},
         "source": [
            "## Destination classification"
         ]
      },
      {
         "cell_type": "markdown",
         "metadata": {},
         "source": [
            "## 1. Importing module"
         ]
      },
      {
         "cell_type": "code",
         "execution_count": 323,
         "metadata": {},
         "outputs": [],
         "source": [
            "import tensorflow as tf\n",
            "import numpy as np\n",
            "import matplotlib as plt\n",
            "\n",
            "import json\n",
            "\n",
            "\n",
            "# https://pypi.org/project/vietnam-provinces/\n",
            "\n",
            "from vietnam_provinces.enums import ProvinceEnum, ProvinceDEnum, DistrictDEnum"
         ]
      },
      {
         "cell_type": "markdown",
         "metadata": {},
         "source": [
            "## 2. Prepare data"
         ]
      },
      {
         "cell_type": "code",
         "execution_count": 324,
         "metadata": {},
         "outputs": [
            {
               "name": "stdout",
               "output_type": "stream",
               "text": [
                  "17|Bà Rịa - Vũng Tàu có bãi Trước đẹp lắm, mình muốn ghé.|tỉnh bà rịa - vũng tàu\n",
                  "18|Mình thích đi chơi ở Đồng Nai, có gì hot không nhỉ?|tỉnh đồng nai\n",
                  "19|Lễ hội đèn đỏ ở Chợ Lớn Hồ Chí Minh rất đẹp, bạn đã tham gia chưa?|thành phố hồ chí minh\n",
                  "20|Cần Thơ có nhiều điểm ẩm thực ngon, bạn biết chưa?|thành phố cần thơ\n",
                  "21|Buổi tối ở Đà Nẵng thì nên ghé quán nào để cảm nhận không khí?|thành phố đà nẵng\n",
                  "22|Phong cảnh ở Ninh Bình thơ mộng, mình muốn đến đây ngắm cảnh.|tỉnh ninh bình\n",
                  "23|Vũng Tàu có bãi Truốc đẹp lắm, mình đi thường xuyên.|thành phố vũng tàu\n",
                  "24|Mình thấy Đà Lạt có thời tiết se lạnh, có đúng không?|thành phố đà lạt\n",
                  "25|Ở Hội An có nhiều cửa hàng độc đáo, bạn đã mua đồ ở đó chưa?|thành phố hội an\n",
                  "26|Mình ở Hà Nội, có nơi nào là địa điểm check-in nổi tiếng không?|thành phố hà nội\n",
                  "27|Sông Hậu ở Cần Thơ cảm giác yên bình quá, bạn đã thăm chưa?|thành phố cần thơ\n",
                  "28|Tại Bạc Liêu, có nhiều sự kiện văn hóa độc đáo, bạn muốn tham gia không?|tỉnh bạc liêu\n",
                  "29|Mình thích hải sản ở Quy Nhơn, có quán nào ngon mà giới thiệu không?|thành phố quy nhơn\n",
                  "30|Đồi Chè Cầu Đất ở Dalat là điểm đến lý tưởng, bạn đã ghé chưa?|thành phố đà lạt\n",
                  "31|Buôn Ma Thuột có nhiều điểm du lịch độc đáo, bạn đã khám phá chưa?|thành phố buôn ma thuột\n",
                  "32|Mình đang ở Cà Mau, có món ăn nào ngon không nên bỏ qua?|tỉnh cà mau\n",
                  "33|Cửa Lò ở Nghệ An có bãi biển đẹp, bạn đã đến chưa?|tỉnh nghệ an\n",
                  "34|Mùa lễ hội ở Hà Nội, bạn thích tham gia lễ hội nào nhất?|thành phố hà nội\n"
               ]
            }
         ],
         "source": [
            "PROVINCES_DICT = {}\n",
            "i = 0\n",
            "for member in ProvinceDEnum:\n",
            "    lowercase = member.value.name.lower()\n",
            "    PROVINCES_DICT[lowercase] = i\n",
            "    i += 1\n",
            "for member in DistrictDEnum:\n",
            "    lowercase = member.value.name.lower()\n",
            "    if lowercase.startswith(\"thành phố\"):\n",
            "        PROVINCES_DICT[lowercase] = i\n",
            "        i += 1\n",
            "# Invert the dictionary\n",
            "PROVINCES_DICT = {value: key for key, value in PROVINCES_DICT.items()}\n",
            "\n",
            "\n",
            "with open(\"../data/dataset.json\", \"r\", encoding=\"utf-8\") as f:\n",
            "    data = json.load(f)\n",
            "\n",
            "sentences = []\n",
            "labels = []\n",
            "\n",
            "\n",
            "\n",
            "format_data = []\n",
            "\n",
            "\n",
            "for item in data:\n",
            "    sentence = item[\"sentence\"]\n",
            "    label = item[\"label\"]\n",
            "    sentences.append(sentence)\n",
            "    labels.append(label)\n",
            "    label = PROVINCES_DICT[label]\n",
            "    new_data = {\"sentence\": sentence, \"label\": label}\n",
            "    format_data.append(new_data)\n",
            "\n",
            "i = 0\n",
            "for item in format_data:\n",
            "    if i >= 17:\n",
            "        print(i, item[\"sentence\"], item[\"label\"], sep=\"|\")\n",
            "    i += 1"
         ]
      },
      {
         "cell_type": "markdown",
         "metadata": {},
         "source": [
            "## 3. Define constant"
         ]
      },
      {
         "cell_type": "code",
         "execution_count": 325,
         "metadata": {},
         "outputs": [],
         "source": [
            "vocab_size = 1000\n",
            "embedding_dim = 16\n",
            "max_length = 100\n",
            "trunc_type = \"post\"\n",
            "padding_type = \"post\"\n",
            "oov_tok = \"<OOV>\"\n",
            "training_size = 30"
         ]
      },
      {
         "cell_type": "markdown",
         "metadata": {},
         "source": [
            "## 4. Split training size and label"
         ]
      },
      {
         "cell_type": "code",
         "execution_count": 326,
         "metadata": {},
         "outputs": [
            {
               "name": "stdout",
               "output_type": "stream",
               "text": [
                  "[60, 31, 0, 101, 110, 125, 13, 58, 115, 105, 61, 62, 113, 53, 14, 45, 49, 48, 47, 49, 58, 31, 24, 125, 115, 103, 0, 58, 61, 105]\n"
               ]
            }
         ],
         "source": [
            "training_sentences = sentences[0:training_size]\n",
            "testing_sentences = sentences[training_size:]\n",
            "training_labels = labels[0:training_size]\n",
            "testing_labels = labels[training_size:]\n",
            "\n",
            "print(training_labels)"
         ]
      },
      {
         "cell_type": "markdown",
         "metadata": {},
         "source": [
            "## 5. Tokenization"
         ]
      },
      {
         "cell_type": "code",
         "execution_count": 327,
         "metadata": {},
         "outputs": [],
         "source": [
            "tokenizer = tf.keras.preprocessing.text.Tokenizer(\n",
            "    num_words=vocab_size, oov_token=oov_tok\n",
            ")\n",
            "# Tokenize the text\n",
            "tokenizer.fit_on_texts(training_sentences)\n",
            "\n",
            "word_index = tokenizer.word_index\n",
            "\n",
            "# Turn the training text to sequence\n",
            "training_sequences = tokenizer.texts_to_sequences(training_sentences)\n",
            "training_padded = tf.keras.preprocessing.sequence.pad_sequences(\n",
            "    training_sequences, maxlen=max_length, truncating=trunc_type, padding=padding_type\n",
            ")\n",
            "\n",
            "testing_sequences = tokenizer.texts_to_sequences(testing_sentences)\n",
            "testing_padded = tf.keras.preprocessing.sequence.pad_sequences(\n",
            "    testing_sequences, maxlen=max_length, truncating=trunc_type, padding=padding_type\n",
            ")"
         ]
      },
      {
         "cell_type": "code",
         "execution_count": 328,
         "metadata": {},
         "outputs": [],
         "source": [
            "# Need this block to get it to work with TensorFlow 2.x\n",
            "# convert \"list\" (Nth dimesion arrat) to \"NDArray\" using numpy library\n",
            "\n",
            "training_padded = np.array(training_padded)\n",
            "training_labels = np.array(training_labels)\n",
            "testing_padded = np.array(testing_padded)\n",
            "testing_labels = np.array(testing_labels)"
         ]
      },
      {
         "cell_type": "markdown",
         "metadata": {},
         "source": [
            "## 6. Training the model"
         ]
      },
      {
         "cell_type": "code",
         "execution_count": 329,
         "metadata": {},
         "outputs": [
            {
               "name": "stdout",
               "output_type": "stream",
               "text": [
                  "Model: \"sequential_23\"\n",
                  "_________________________________________________________________\n",
                  " Layer (type)                Output Shape              Param #   \n",
                  "=================================================================\n",
                  " embedding_23 (Embedding)    (None, 100, 16)           16000     \n",
                  "                                                                 \n",
                  " global_average_pooling1d_2  (None, 16)                0         \n",
                  " 3 (GlobalAveragePooling1D)                                      \n",
                  "                                                                 \n",
                  " dense_46 (Dense)            (None, 24)                408       \n",
                  "                                                                 \n",
                  " dense_47 (Dense)            (None, 146)               3650      \n",
                  "                                                                 \n",
                  "=================================================================\n",
                  "Total params: 20058 (78.35 KB)\n",
                  "Trainable params: 20058 (78.35 KB)\n",
                  "Non-trainable params: 0 (0.00 Byte)\n",
                  "_________________________________________________________________\n"
               ]
            }
         ],
         "source": [
            "model = tf.keras.Sequential(\n",
            "    [\n",
            "        tf.keras.layers.Embedding(vocab_size, embedding_dim, input_length=max_length),\n",
            "        tf.keras.layers.GlobalAveragePooling1D(),\n",
            "        tf.keras.layers.Dense(24, activation=\"relu\"),\n",
            "        tf.keras.layers.Dense(len(PROVINCES_DICT)),\n",
            "    ]\n",
            ")\n",
            "# For multi category use sparse categorical is the best\n",
            "model.compile(\n",
            "    loss=tf.keras.losses.SparseCategoricalCrossentropy(from_logits=True),\n",
            "    optimizer=\"adam\",\n",
            "    metrics=[\"accuracy\"],\n",
            ")\n",
            "model.summary()"
         ]
      },
      {
         "cell_type": "code",
         "execution_count": 330,
         "metadata": {},
         "outputs": [
            {
               "name": "stdout",
               "output_type": "stream",
               "text": [
                  "Epoch 1/50\n"
               ]
            },
            {
               "name": "stdout",
               "output_type": "stream",
               "text": [
                  "1/1 [==============================] - 1s 537ms/step - loss: 4.9852 - accuracy: 0.0000e+00 - val_loss: 4.9823 - val_accuracy: 0.0000e+00\n",
                  "Epoch 2/50\n",
                  "1/1 [==============================] - 0s 22ms/step - loss: 4.9828 - accuracy: 0.0000e+00 - val_loss: 4.9810 - val_accuracy: 0.0000e+00\n",
                  "Epoch 3/50\n",
                  "1/1 [==============================] - 0s 22ms/step - loss: 4.9804 - accuracy: 0.0000e+00 - val_loss: 4.9799 - val_accuracy: 0.0000e+00\n",
                  "Epoch 4/50\n",
                  "1/1 [==============================] - 0s 21ms/step - loss: 4.9780 - accuracy: 0.0000e+00 - val_loss: 4.9789 - val_accuracy: 0.0000e+00\n",
                  "Epoch 5/50\n",
                  "1/1 [==============================] - 0s 24ms/step - loss: 4.9757 - accuracy: 0.0000e+00 - val_loss: 4.9779 - val_accuracy: 0.0000e+00\n",
                  "Epoch 6/50\n",
                  "1/1 [==============================] - 0s 23ms/step - loss: 4.9733 - accuracy: 0.0667 - val_loss: 4.9768 - val_accuracy: 0.0000e+00\n",
                  "Epoch 7/50\n",
                  "1/1 [==============================] - 0s 25ms/step - loss: 4.9710 - accuracy: 0.0667 - val_loss: 4.9755 - val_accuracy: 0.0000e+00\n",
                  "Epoch 8/50\n",
                  "1/1 [==============================] - 0s 22ms/step - loss: 4.9686 - accuracy: 0.0667 - val_loss: 4.9742 - val_accuracy: 0.0000e+00\n",
                  "Epoch 9/50\n",
                  "1/1 [==============================] - 0s 23ms/step - loss: 4.9662 - accuracy: 0.0667 - val_loss: 4.9728 - val_accuracy: 0.0000e+00\n",
                  "Epoch 10/50\n",
                  "1/1 [==============================] - 0s 23ms/step - loss: 4.9637 - accuracy: 0.0333 - val_loss: 4.9713 - val_accuracy: 0.0000e+00\n",
                  "Epoch 11/50\n",
                  "1/1 [==============================] - 0s 26ms/step - loss: 4.9611 - accuracy: 0.0333 - val_loss: 4.9699 - val_accuracy: 0.0000e+00\n",
                  "Epoch 12/50\n",
                  "1/1 [==============================] - 0s 24ms/step - loss: 4.9585 - accuracy: 0.0333 - val_loss: 4.9683 - val_accuracy: 0.0000e+00\n",
                  "Epoch 13/50\n",
                  "1/1 [==============================] - 0s 22ms/step - loss: 4.9558 - accuracy: 0.0333 - val_loss: 4.9666 - val_accuracy: 0.0000e+00\n",
                  "Epoch 14/50\n",
                  "1/1 [==============================] - 0s 24ms/step - loss: 4.9530 - accuracy: 0.0333 - val_loss: 4.9649 - val_accuracy: 0.0000e+00\n",
                  "Epoch 15/50\n",
                  "1/1 [==============================] - 0s 22ms/step - loss: 4.9501 - accuracy: 0.0333 - val_loss: 4.9632 - val_accuracy: 0.0000e+00\n",
                  "Epoch 16/50\n",
                  "1/1 [==============================] - 0s 22ms/step - loss: 4.9471 - accuracy: 0.0667 - val_loss: 4.9613 - val_accuracy: 0.0000e+00\n",
                  "Epoch 17/50\n",
                  "1/1 [==============================] - 0s 22ms/step - loss: 4.9440 - accuracy: 0.0333 - val_loss: 4.9594 - val_accuracy: 0.0000e+00\n",
                  "Epoch 18/50\n",
                  "1/1 [==============================] - 0s 22ms/step - loss: 4.9407 - accuracy: 0.0333 - val_loss: 4.9574 - val_accuracy: 0.0000e+00\n",
                  "Epoch 19/50\n",
                  "1/1 [==============================] - 0s 22ms/step - loss: 4.9374 - accuracy: 0.0333 - val_loss: 4.9554 - val_accuracy: 0.0000e+00\n",
                  "Epoch 20/50\n",
                  "1/1 [==============================] - 0s 23ms/step - loss: 4.9339 - accuracy: 0.0333 - val_loss: 4.9532 - val_accuracy: 0.0000e+00\n",
                  "Epoch 21/50\n",
                  "1/1 [==============================] - 0s 21ms/step - loss: 4.9303 - accuracy: 0.0333 - val_loss: 4.9510 - val_accuracy: 0.0000e+00\n",
                  "Epoch 22/50\n",
                  "1/1 [==============================] - 0s 22ms/step - loss: 4.9266 - accuracy: 0.0333 - val_loss: 4.9486 - val_accuracy: 0.0000e+00\n",
                  "Epoch 23/50\n",
                  "1/1 [==============================] - 0s 22ms/step - loss: 4.9227 - accuracy: 0.0333 - val_loss: 4.9462 - val_accuracy: 0.0000e+00\n",
                  "Epoch 24/50\n",
                  "1/1 [==============================] - 0s 23ms/step - loss: 4.9187 - accuracy: 0.0333 - val_loss: 4.9436 - val_accuracy: 0.0000e+00\n",
                  "Epoch 25/50\n",
                  "1/1 [==============================] - 0s 22ms/step - loss: 4.9145 - accuracy: 0.0333 - val_loss: 4.9410 - val_accuracy: 0.0000e+00\n",
                  "Epoch 26/50\n",
                  "1/1 [==============================] - 0s 22ms/step - loss: 4.9102 - accuracy: 0.0333 - val_loss: 4.9382 - val_accuracy: 0.0000e+00\n",
                  "Epoch 27/50\n",
                  "1/1 [==============================] - 0s 22ms/step - loss: 4.9057 - accuracy: 0.0333 - val_loss: 4.9353 - val_accuracy: 0.0000e+00\n",
                  "Epoch 28/50\n",
                  "1/1 [==============================] - 0s 23ms/step - loss: 4.9010 - accuracy: 0.0333 - val_loss: 4.9323 - val_accuracy: 0.0000e+00\n",
                  "Epoch 29/50\n",
                  "1/1 [==============================] - 0s 21ms/step - loss: 4.8961 - accuracy: 0.0333 - val_loss: 4.9291 - val_accuracy: 0.0000e+00\n",
                  "Epoch 30/50\n",
                  "1/1 [==============================] - 0s 21ms/step - loss: 4.8911 - accuracy: 0.0333 - val_loss: 4.9258 - val_accuracy: 0.0000e+00\n",
                  "Epoch 31/50\n",
                  "1/1 [==============================] - 0s 21ms/step - loss: 4.8859 - accuracy: 0.0333 - val_loss: 4.9224 - val_accuracy: 0.0000e+00\n",
                  "Epoch 32/50\n",
                  "1/1 [==============================] - 0s 21ms/step - loss: 4.8805 - accuracy: 0.0333 - val_loss: 4.9188 - val_accuracy: 0.0000e+00\n",
                  "Epoch 33/50\n",
                  "1/1 [==============================] - 0s 22ms/step - loss: 4.8748 - accuracy: 0.0333 - val_loss: 4.9151 - val_accuracy: 0.0000e+00\n",
                  "Epoch 34/50\n",
                  "1/1 [==============================] - 0s 22ms/step - loss: 4.8690 - accuracy: 0.0333 - val_loss: 4.9113 - val_accuracy: 0.0000e+00\n",
                  "Epoch 35/50\n",
                  "1/1 [==============================] - 0s 23ms/step - loss: 4.8629 - accuracy: 0.0333 - val_loss: 4.9072 - val_accuracy: 0.0000e+00\n",
                  "Epoch 36/50\n",
                  "1/1 [==============================] - 0s 22ms/step - loss: 4.8567 - accuracy: 0.0333 - val_loss: 4.9030 - val_accuracy: 0.0000e+00\n",
                  "Epoch 37/50\n",
                  "1/1 [==============================] - 0s 22ms/step - loss: 4.8501 - accuracy: 0.0333 - val_loss: 4.8987 - val_accuracy: 0.0000e+00\n",
                  "Epoch 38/50\n",
                  "1/1 [==============================] - 0s 24ms/step - loss: 4.8434 - accuracy: 0.0333 - val_loss: 4.8941 - val_accuracy: 0.0000e+00\n",
                  "Epoch 39/50\n",
                  "1/1 [==============================] - 0s 32ms/step - loss: 4.8364 - accuracy: 0.0333 - val_loss: 4.8894 - val_accuracy: 0.0000e+00\n",
                  "Epoch 40/50\n",
                  "1/1 [==============================] - 0s 30ms/step - loss: 4.8291 - accuracy: 0.0333 - val_loss: 4.8845 - val_accuracy: 0.0000e+00\n",
                  "Epoch 41/50\n",
                  "1/1 [==============================] - 0s 29ms/step - loss: 4.8216 - accuracy: 0.0333 - val_loss: 4.8794 - val_accuracy: 0.0000e+00\n",
                  "Epoch 42/50\n",
                  "1/1 [==============================] - 0s 28ms/step - loss: 4.8138 - accuracy: 0.0333 - val_loss: 4.8741 - val_accuracy: 0.0000e+00\n",
                  "Epoch 43/50\n",
                  "1/1 [==============================] - 0s 23ms/step - loss: 4.8058 - accuracy: 0.0333 - val_loss: 4.8686 - val_accuracy: 0.0000e+00\n",
                  "Epoch 44/50\n",
                  "1/1 [==============================] - 0s 22ms/step - loss: 4.7974 - accuracy: 0.0333 - val_loss: 4.8629 - val_accuracy: 0.0000e+00\n",
                  "Epoch 45/50\n",
                  "1/1 [==============================] - 0s 21ms/step - loss: 4.7888 - accuracy: 0.0333 - val_loss: 4.8569 - val_accuracy: 0.0000e+00\n",
                  "Epoch 46/50\n",
                  "1/1 [==============================] - 0s 23ms/step - loss: 4.7799 - accuracy: 0.0333 - val_loss: 4.8508 - val_accuracy: 0.0000e+00\n",
                  "Epoch 47/50\n",
                  "1/1 [==============================] - 0s 22ms/step - loss: 4.7706 - accuracy: 0.0333 - val_loss: 4.8444 - val_accuracy: 0.0000e+00\n",
                  "Epoch 48/50\n",
                  "1/1 [==============================] - 0s 23ms/step - loss: 4.7611 - accuracy: 0.0333 - val_loss: 4.8378 - val_accuracy: 0.0000e+00\n",
                  "Epoch 49/50\n",
                  "1/1 [==============================] - 0s 22ms/step - loss: 4.7512 - accuracy: 0.0333 - val_loss: 4.8310 - val_accuracy: 0.0000e+00\n",
                  "Epoch 50/50\n",
                  "1/1 [==============================] - 0s 22ms/step - loss: 4.7411 - accuracy: 0.0333 - val_loss: 4.8240 - val_accuracy: 0.0000e+00\n"
               ]
            }
         ],
         "source": [
            "num_epochs = 50\n",
            "history = model.fit(\n",
            "    training_padded,\n",
            "    training_labels,\n",
            "    epochs=num_epochs,\n",
            "    validation_data=(testing_padded, testing_labels),\n",
            ")"
         ]
      },
      {
         "cell_type": "markdown",
         "metadata": {},
         "source": [
            "## 7. Create the graph for better understanding"
         ]
      },
      {
         "cell_type": "code",
         "execution_count": 331,
         "metadata": {},
         "outputs": [
            {
               "data": {
                  "image/png": "[encoded data removed]",
                  "text/plain": [
                     "<Figure size 640x480 with 1 Axes>"
                  ]
               },
               "metadata": {},
               "output_type": "display_data"
            },
            {
               "data": {
                  "image/png": "[encoded data removed]",
                  "text/plain": [
                     "<Figure size 640x480 with 1 Axes>"
                  ]
               },
               "metadata": {},
               "output_type": "display_data"
            },
            {
               "name": "stdout",
               "output_type": "stream",
               "text": [
                  "DECODE sentence\n",
                  "muốn đi sóc trăng quá à ? ? ? ? ? ? ? ? ? ? ? ? ? ? ? ? ? ? ? ? ? ? ? ? ? ? ? ? ? ? ? ? ? ? ? ? ? ? ? ? ? ? ? ? ? ? ? ? ? ? ? ? ? ? ? ? ? ? ? ? ? ? ? ? ? ? ? ? ? ? ? ? ? ? ? ? ? ? ? ? ? ? ? ? ? ? ? ? ? ? ? ? ? ?\n",
                  "Original sentence\n",
                  "Muốn đi sóc Trăng quá à\n",
                  "City:\n",
                  "60\n",
                  "[[ 0.06530258 -0.07765453  0.05441543 ... -0.03462917 -0.03895647\n",
                  "   0.08803187]\n",
                  " [-0.03266219  0.04149706 -0.03496978 ... -0.003444   -0.00366556\n",
                  "  -0.01133633]\n",
                  " [ 0.06153248 -0.02618689  0.02712517 ... -0.05340714 -0.02736541\n",
                  "  -0.01408214]\n",
                  " ...\n",
                  " [-0.02584137 -0.03852408 -0.02964544 ... -0.02482443  0.04922484\n",
                  "  -0.02827185]\n",
                  " [ 0.02360204  0.00244771  0.04848799 ...  0.04134395  0.01979107\n",
                  "  -0.00669625]\n",
                  " [ 0.02585207 -0.0352523  -0.01975003 ... -0.04223055  0.04078246\n",
                  "   0.00403937]]\n"
               ]
            }
         ],
         "source": [
            "import matplotlib.pyplot as plt\n",
            "\n",
            "\n",
            "def plot_graphs(history, str):\n",
            "    plt.plot(history.history[str])\n",
            "    plt.plot(history.history[\"val_\" + str])\n",
            "    plt.xlabel(\"Epochs\")\n",
            "    plt.ylabel(str)\n",
            "    plt.legend([str, \"val_\" + str])\n",
            "    plt.show()\n",
            "\n",
            "\n",
            "plot_graphs(history, \"accuracy\")\n",
            "plot_graphs(history, \"loss\")\n",
            "\n",
            "# decode the word index back to original word\n",
            "reverse_word_index = dict([(value, key) for (key, value) in word_index.items()])\n",
            "\n",
            "\n",
            "def decode_sentences(text):\n",
            "    return \" \".join([reverse_word_index.get(i, \"?\") for i in text])\n",
            "\n",
            "\n",
            "print(\"DECODE sentence\")\n",
            "print(decode_sentences(training_padded[0]))\n",
            "print(\"Original sentence\")\n",
            "print(training_sentences[0])\n",
            "print(\"City:\")\n",
            "print(labels[0])\n",
            "\n",
            "e = model.layers[0]\n",
            "weights = e.get_weights()[0]\n",
            "print(weights)  # shape: (vocab_size, embedding_dim)"
         ]
      },
      {
         "cell_type": "markdown",
         "metadata": {},
         "source": [
            "## 8. Saving the model"
         ]
      },
      {
         "cell_type": "code",
         "execution_count": 332,
         "metadata": {},
         "outputs": [
            {
               "name": "stderr",
               "output_type": "stream",
               "text": [
                  "d:\\#Code\\My Project\\Test\\JupiterNotebook\\bus_ticket_prediction\\venv\\Lib\\site-packages\\keras\\src\\engine\\training.py:3103: UserWarning: You are saving your model as an HDF5 file via `model.save()`. This file format is considered legacy. We recommend using instead the native Keras format, e.g. `model.save('my_model.keras')`.\n",
                  "  saving_api.save_model(\n"
               ]
            }
         ],
         "source": [
            "# Saving the whole model\n",
            "# HDF5 format\n",
            "model.save(\"nn.h5\")\n",
            "# Saving only weight\n",
            "model.save_weights(\"nn_weight.h5\")\n",
            "# Saving only the architecture\n",
            "json_str = model.to_json()\n",
            "with open(\"nn_model.json\", \"w\") as f:\n",
            "    f.write(json_str)"
         ]
      },
      {
         "cell_type": "markdown",
         "metadata": {},
         "source": [
            "## 9. Predict data using pre-trained model"
         ]
      },
      {
         "cell_type": "code",
         "execution_count": 341,
         "metadata": {},
         "outputs": [
            {
               "name": "stdout",
               "output_type": "stream",
               "text": [
                  "[[71  0  0  0  0  0  0  0  0  0  0  0  0  0  0  0  0  0  0  0  0  0  0  0\n",
                  "   0  0  0  0  0  0  0  0  0  0  0  0  0  0  0  0  0  0  0  0  0  0  0  0\n",
                  "   0  0  0  0  0  0  0  0  0  0  0  0  0  0  0  0  0  0  0  0  0  0  0  0\n",
                  "   0  0  0  0  0  0  0  0  0  0  0  0  0  0  0  0  0  0  0  0  0  0  0  0\n",
                  "   0  0  0  0]]\n",
                  "1/1 [==============================] - 0s 43ms/step\n",
                  "tỉnh đồng nai 0.26098114\n"
               ]
            }
         ],
         "source": [
            "# Data to predict\n",
            "sentences = [\"Sóc\"]\n",
            "\n",
            "pretrain_model = tf.keras.models.load_model(\"nn.h5\")\n",
            "# pretrain_model.summary()\n",
            "\n",
            "sequences = tokenizer.texts_to_sequences(sentences)\n",
            "padded = tf.keras.preprocessing.sequence.pad_sequences(\n",
            "    sequences, maxlen=max_length, truncating=trunc_type, padding=padding_type\n",
            ")\n",
            "print(padded)\n",
            "prediction = pretrain_model.predict(padded)\n",
            "maxIndex = np.argmax(prediction[0])\n",
            "max = np.max(prediction[0])\n",
            "print(PROVINCES_DICT[maxIndex], max)"
         ]
      }
   ],
   "metadata": {
      "kernelspec": {
         "display_name": "venv",
         "language": "python",
         "name": "python3"
      },
      "language_info": {
         "codemirror_mode": {
            "name": "ipython",
            "version": 3
         },
         "file_extension": ".py",
         "mimetype": "text/x-python",
         "name": "python",
         "nbconvert_exporter": "python",
         "pygments_lexer": "ipython3",
         "version": "3.11.0"
      }
   },
   "nbformat": 4,
   "nbformat_minor": 2
}
