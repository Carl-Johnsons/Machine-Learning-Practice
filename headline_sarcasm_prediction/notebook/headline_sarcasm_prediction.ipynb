{
 "cells": [
  {
   "cell_type": "markdown",
   "metadata": {},
   "source": [
    "# Sarcasm Article prediction"
   ]
  },
  {
   "cell_type": "markdown",
   "metadata": {},
   "source": [
    "## 1. Importing modules"
   ]
  },
  {
   "cell_type": "code",
   "execution_count": 1,
   "metadata": {},
   "outputs": [],
   "source": [
    "# Resource url:\n",
    "# https://www.youtube.com/watch?v=6lMQnaFS3Rc\n",
    "# https://www.youtube.com/watch?v=Y_hzMnRXjhI&list=PLQY2H8rRoyvzDbLUZkbudP-MFQZwNmU4S&index=3\n",
    "# https://colab.research.google.com/github/lmoroney/dlaicourse/blob/master/TensorFlow%20In%20Practice/Course%203%20-%20NLP/Course%203%20-%20Week%202%20-%20Lesson%202.ipynb#scrollTo=BQVuQrZNkPn9\n",
    "# wget --no-check-certificate https://storage.googleapis.com/learning-datasets/sarcasm.json -O ./tmp/sarcasm.json\n",
    "# https://blog.keras.io/using-pre-trained-word-embeddings-in-a-keras-model.html"
   ]
  },
  {
   "cell_type": "code",
   "execution_count": 2,
   "metadata": {},
   "outputs": [
    {
     "name": "stdout",
     "output_type": "stream",
     "text": [
      "WARNING:tensorflow:From d:\\#Code\\My Project\\Test\\JupiterNotebook\\headline_sarcasm_prediction\\venv\\Lib\\site-packages\\keras\\src\\losses.py:2976: The name tf.losses.sparse_softmax_cross_entropy is deprecated. Please use tf.compat.v1.losses.sparse_softmax_cross_entropy instead.\n",
      "\n"
     ]
    }
   ],
   "source": [
    "\n",
    "import tensorflow as tf\n",
    "import matplotlib.pyplot as plt\n",
    "import json\n",
    "import math"
   ]
  },
  {
   "cell_type": "markdown",
   "metadata": {},
   "source": [
    "## 2. Loading data from json file"
   ]
  },
  {
   "cell_type": "code",
   "execution_count": 3,
   "metadata": {},
   "outputs": [],
   "source": [
    "\n",
    "# Training section\n",
    "with open(\"../data/sarcasm.json\", \"r\") as file:\n",
    "    datastore = json.load(file)\n",
    "\n",
    "sentences = []\n",
    "labels = []\n",
    "\n",
    "for item in datastore:\n",
    "    sentences.append(item[\"headline\"])\n",
    "    labels.append(item[\"is_sarcastic\"])"
   ]
  },
  {
   "cell_type": "code",
   "execution_count": 4,
   "metadata": {},
   "outputs": [],
   "source": [
    "vocab_size = 10000\n",
    "embedding_dim = 16\n",
    "max_length = 100\n",
    "trunc_type = \"post\"\n",
    "padding_type = \"post\"\n",
    "oov_tok = \"<OOV>\"\n",
    "training_size = 20000\n",
    "\n",
    "# sentence len 26709"
   ]
  },
  {
   "cell_type": "markdown",
   "metadata": {},
   "source": [
    "## 3. Split training size and label"
   ]
  },
  {
   "cell_type": "code",
   "execution_count": 5,
   "metadata": {},
   "outputs": [],
   "source": [
    "training_sentences = sentences[0:training_size]\n",
    "testing_sentences = sentences[training_size:]\n",
    "training_labels = labels[0:training_size]\n",
    "testing_labels = labels[training_size:]"
   ]
  },
  {
   "cell_type": "markdown",
   "metadata": {},
   "source": [
    "## 4. Tokenization"
   ]
  },
  {
   "cell_type": "code",
   "execution_count": 6,
   "metadata": {},
   "outputs": [],
   "source": [
    "tokenizer = tf.keras.preprocessing.text.Tokenizer(\n",
    "    num_words=vocab_size, oov_token=oov_tok\n",
    ")\n",
    "# Tokenize the text\n",
    "tokenizer.fit_on_texts(training_sentences[:training_size])\n",
    "\n",
    "word_index = tokenizer.word_index\n",
    "\n",
    "# Turn the training text to sequence\n",
    "training_sequences = tokenizer.texts_to_sequences(training_sentences)\n",
    "training_padded = tf.keras.preprocessing.sequence.pad_sequences(\n",
    "    training_sequences, maxlen=max_length, truncating=trunc_type, padding=padding_type\n",
    ")\n",
    "\n",
    "testing_sequences = tokenizer.texts_to_sequences(testing_sentences)\n",
    "testing_padded = tf.keras.preprocessing.sequence.pad_sequences(\n",
    "    testing_sequences, maxlen=max_length, truncating=trunc_type, padding=padding_type\n",
    ")"
   ]
  },
  {
   "cell_type": "code",
   "execution_count": 7,
   "metadata": {},
   "outputs": [],
   "source": [
    "# Need this block to get it to work with TensorFlow 2.x\n",
    "# convert \"list\" (Nth dimesion arrat) to \"NDArray\" using numpy library\n",
    "import numpy as np\n",
    "\n",
    "training_padded = np.array(training_padded)\n",
    "training_labels = np.array(training_labels)\n",
    "testing_padded = np.array(testing_padded)\n",
    "testing_labels = np.array(testing_labels)"
   ]
  },
  {
   "cell_type": "markdown",
   "metadata": {},
   "source": [
    "## 5. Training the model"
   ]
  },
  {
   "cell_type": "code",
   "execution_count": 8,
   "metadata": {},
   "outputs": [
    {
     "name": "stdout",
     "output_type": "stream",
     "text": [
      "WARNING:tensorflow:From d:\\#Code\\My Project\\Test\\JupiterNotebook\\headline_sarcasm_prediction\\venv\\Lib\\site-packages\\keras\\src\\backend.py:873: The name tf.get_default_graph is deprecated. Please use tf.compat.v1.get_default_graph instead.\n",
      "\n",
      "WARNING:tensorflow:From d:\\#Code\\My Project\\Test\\JupiterNotebook\\headline_sarcasm_prediction\\venv\\Lib\\site-packages\\keras\\src\\optimizers\\__init__.py:309: The name tf.train.Optimizer is deprecated. Please use tf.compat.v1.train.Optimizer instead.\n",
      "\n",
      "Model: \"sequential\"\n",
      "_________________________________________________________________\n",
      " Layer (type)                Output Shape              Param #   \n",
      "=================================================================\n",
      " embedding (Embedding)       (None, 100, 16)           160000    \n",
      "                                                                 \n",
      " global_average_pooling1d (  (None, 16)                0         \n",
      " GlobalAveragePooling1D)                                         \n",
      "                                                                 \n",
      " dense (Dense)               (None, 24)                408       \n",
      "                                                                 \n",
      " dense_1 (Dense)             (None, 1)                 25        \n",
      "                                                                 \n",
      "=================================================================\n",
      "Total params: 160433 (626.69 KB)\n",
      "Trainable params: 160433 (626.69 KB)\n",
      "Non-trainable params: 0 (0.00 Byte)\n",
      "_________________________________________________________________\n"
     ]
    }
   ],
   "source": [
    "model = tf.keras.Sequential(\n",
    "    [\n",
    "        tf.keras.layers.Embedding(vocab_size, embedding_dim, input_length=max_length),\n",
    "        tf.keras.layers.GlobalAveragePooling1D(),\n",
    "        tf.keras.layers.Dense(24, activation=\"relu\"),\n",
    "        tf.keras.layers.Dense(1, activation=\"sigmoid\"),\n",
    "    ]\n",
    ")\n",
    "model.compile(loss=\"binary_crossentropy\", optimizer=\"adam\", metrics=[\"accuracy\"])\n",
    "model.summary()"
   ]
  },
  {
   "cell_type": "code",
   "execution_count": 9,
   "metadata": {},
   "outputs": [
    {
     "name": "stdout",
     "output_type": "stream",
     "text": [
      "Epoch 1/30\n",
      "WARNING:tensorflow:From d:\\#Code\\My Project\\Test\\JupiterNotebook\\venv\\Lib\\site-packages\\keras\\src\\utils\\tf_utils.py:492: The name tf.ragged.RaggedTensorValue is deprecated. Please use tf.compat.v1.ragged.RaggedTensorValue instead.\n",
      "\n",
      "WARNING:tensorflow:From d:\\#Code\\My Project\\Test\\JupiterNotebook\\venv\\Lib\\site-packages\\keras\\src\\engine\\base_layer_utils.py:384: The name tf.executing_eagerly_outside_functions is deprecated. Please use tf.compat.v1.executing_eagerly_outside_functions instead.\n",
      "\n",
      "625/625 - 1s - loss: 0.6741 - accuracy: 0.5705 - val_loss: 0.6226 - val_accuracy: 0.6430 - 1s/epoch - 2ms/step\n",
      "Epoch 2/30\n",
      "625/625 - 1s - loss: 0.4678 - accuracy: 0.8111 - val_loss: 0.4014 - val_accuracy: 0.8274 - 751ms/epoch - 1ms/step\n",
      "Epoch 3/30\n",
      "625/625 - 1s - loss: 0.3277 - accuracy: 0.8689 - val_loss: 0.3602 - val_accuracy: 0.8487 - 754ms/epoch - 1ms/step\n",
      "Epoch 4/30\n",
      "625/625 - 1s - loss: 0.2725 - accuracy: 0.8949 - val_loss: 0.3484 - val_accuracy: 0.8521 - 758ms/epoch - 1ms/step\n",
      "Epoch 5/30\n",
      "625/625 - 1s - loss: 0.2374 - accuracy: 0.9077 - val_loss: 0.3453 - val_accuracy: 0.8538 - 758ms/epoch - 1ms/step\n",
      "Epoch 6/30\n",
      "625/625 - 1s - loss: 0.2087 - accuracy: 0.9194 - val_loss: 0.3458 - val_accuracy: 0.8574 - 758ms/epoch - 1ms/step\n",
      "Epoch 7/30\n",
      "625/625 - 1s - loss: 0.1864 - accuracy: 0.9290 - val_loss: 0.3616 - val_accuracy: 0.8506 - 750ms/epoch - 1ms/step\n",
      "Epoch 8/30\n",
      "625/625 - 1s - loss: 0.1692 - accuracy: 0.9359 - val_loss: 0.3705 - val_accuracy: 0.8517 - 754ms/epoch - 1ms/step\n",
      "Epoch 9/30\n",
      "625/625 - 1s - loss: 0.1509 - accuracy: 0.9455 - val_loss: 0.3817 - val_accuracy: 0.8509 - 755ms/epoch - 1ms/step\n",
      "Epoch 10/30\n",
      "625/625 - 1s - loss: 0.1379 - accuracy: 0.9513 - val_loss: 0.4083 - val_accuracy: 0.8456 - 787ms/epoch - 1ms/step\n",
      "Epoch 11/30\n",
      "625/625 - 1s - loss: 0.1256 - accuracy: 0.9557 - val_loss: 0.4443 - val_accuracy: 0.8363 - 844ms/epoch - 1ms/step\n",
      "Epoch 12/30\n",
      "625/625 - 1s - loss: 0.1149 - accuracy: 0.9614 - val_loss: 0.4421 - val_accuracy: 0.8456 - 797ms/epoch - 1ms/step\n",
      "Epoch 13/30\n",
      "625/625 - 1s - loss: 0.1071 - accuracy: 0.9639 - val_loss: 0.4565 - val_accuracy: 0.8454 - 828ms/epoch - 1ms/step\n",
      "Epoch 14/30\n",
      "625/625 - 1s - loss: 0.0975 - accuracy: 0.9677 - val_loss: 0.4795 - val_accuracy: 0.8435 - 756ms/epoch - 1ms/step\n",
      "Epoch 15/30\n",
      "625/625 - 1s - loss: 0.0902 - accuracy: 0.9704 - val_loss: 0.5018 - val_accuracy: 0.8435 - 738ms/epoch - 1ms/step\n",
      "Epoch 16/30\n",
      "625/625 - 1s - loss: 0.0818 - accuracy: 0.9736 - val_loss: 0.5296 - val_accuracy: 0.8393 - 748ms/epoch - 1ms/step\n",
      "Epoch 17/30\n",
      "625/625 - 1s - loss: 0.0765 - accuracy: 0.9748 - val_loss: 0.5581 - val_accuracy: 0.8377 - 733ms/epoch - 1ms/step\n",
      "Epoch 18/30\n",
      "625/625 - 1s - loss: 0.0709 - accuracy: 0.9781 - val_loss: 0.5830 - val_accuracy: 0.8354 - 743ms/epoch - 1ms/step\n",
      "Epoch 19/30\n",
      "625/625 - 1s - loss: 0.0654 - accuracy: 0.9790 - val_loss: 0.6403 - val_accuracy: 0.8310 - 755ms/epoch - 1ms/step\n",
      "Epoch 20/30\n",
      "625/625 - 1s - loss: 0.0601 - accuracy: 0.9812 - val_loss: 0.6595 - val_accuracy: 0.8292 - 750ms/epoch - 1ms/step\n",
      "Epoch 21/30\n",
      "625/625 - 1s - loss: 0.0565 - accuracy: 0.9811 - val_loss: 0.6958 - val_accuracy: 0.8258 - 748ms/epoch - 1ms/step\n",
      "Epoch 22/30\n",
      "625/625 - 1s - loss: 0.0515 - accuracy: 0.9844 - val_loss: 0.7271 - val_accuracy: 0.8252 - 741ms/epoch - 1ms/step\n",
      "Epoch 23/30\n",
      "625/625 - 1s - loss: 0.0482 - accuracy: 0.9857 - val_loss: 0.7616 - val_accuracy: 0.8226 - 742ms/epoch - 1ms/step\n",
      "Epoch 24/30\n",
      "625/625 - 1s - loss: 0.0426 - accuracy: 0.9876 - val_loss: 0.7749 - val_accuracy: 0.8255 - 750ms/epoch - 1ms/step\n",
      "Epoch 25/30\n",
      "625/625 - 1s - loss: 0.0415 - accuracy: 0.9876 - val_loss: 0.8201 - val_accuracy: 0.8234 - 740ms/epoch - 1ms/step\n",
      "Epoch 26/30\n",
      "625/625 - 1s - loss: 0.0384 - accuracy: 0.9891 - val_loss: 0.8573 - val_accuracy: 0.8207 - 746ms/epoch - 1ms/step\n",
      "Epoch 27/30\n",
      "625/625 - 1s - loss: 0.0343 - accuracy: 0.9903 - val_loss: 0.8879 - val_accuracy: 0.8185 - 742ms/epoch - 1ms/step\n",
      "Epoch 28/30\n",
      "625/625 - 1s - loss: 0.0323 - accuracy: 0.9906 - val_loss: 0.9333 - val_accuracy: 0.8176 - 749ms/epoch - 1ms/step\n",
      "Epoch 29/30\n",
      "625/625 - 1s - loss: 0.0295 - accuracy: 0.9918 - val_loss: 0.9482 - val_accuracy: 0.8161 - 744ms/epoch - 1ms/step\n",
      "Epoch 30/30\n",
      "625/625 - 1s - loss: 0.0284 - accuracy: 0.9916 - val_loss: 0.9853 - val_accuracy: 0.8144 - 745ms/epoch - 1ms/step\n"
     ]
    }
   ],
   "source": [
    "num_epochs = 30\n",
    "history = model.fit(\n",
    "    training_padded,\n",
    "    training_labels,\n",
    "    epochs=num_epochs,\n",
    "    validation_data=(testing_padded, testing_labels),\n",
    "    verbose=2,\n",
    ")"
   ]
  },
  {
   "cell_type": "markdown",
   "metadata": {},
   "source": [
    "## 6. Create the graph for better understanding"
   ]
  },
  {
   "cell_type": "code",
   "execution_count": 10,
   "metadata": {},
   "outputs": [
    {
     "data": {
      "image/png": "[encoded data removed]",
      "text/plain": [
       "<Figure size 640x480 with 1 Axes>"
      ]
     },
     "metadata": {},
     "output_type": "display_data"
    },
    {
     "data": {
      "image/png": "[encoded data removed]",
      "text/plain": [
       "<Figure size 640x480 with 1 Axes>"
      ]
     },
     "metadata": {},
     "output_type": "display_data"
    },
    {
     "name": "stdout",
     "output_type": "stream",
     "text": [
      "DECODE sentence\n",
      "former <OOV> store clerk sues over secret 'black <OOV> for minority shoppers ? ? ? ? ? ? ? ? ? ? ? ? ? ? ? ? ? ? ? ? ? ? ? ? ? ? ? ? ? ? ? ? ? ? ? ? ? ? ? ? ? ? ? ? ? ? ? ? ? ? ? ? ? ? ? ? ? ? ? ? ? ? ? ? ? ? ? ? ? ? ? ? ? ? ? ? ? ? ? ? ? ? ? ? ? ? ? ?\n",
      "Original sentence\n",
      "former versace store clerk sues over secret 'black code' for minority shoppers\n",
      "Is_sarcasm:\n",
      "0\n",
      "[[ 1.2053059e-02 -5.8799633e-03  1.1445944e-01 ...  3.5848793e-02\n",
      "   6.7748539e-02  4.1742440e-02]\n",
      " [ 2.5515828e-02 -2.2670608e-03  5.5476371e-02 ...  1.1232260e-01\n",
      "   7.4223958e-02 -1.9232905e-02]\n",
      " [-5.9200719e-02  9.2788987e-02 -3.0695758e-04 ...  1.5991582e-01\n",
      "   9.8662265e-02 -3.2726225e-02]\n",
      " ...\n",
      " [ 4.3179622e-01 -4.1988662e-01  4.4407299e-01 ... -4.5288625e-01\n",
      "  -4.4040474e-01  4.4087160e-01]\n",
      " [-2.6231074e-01  2.8860176e-01 -1.2622130e-01 ...  2.7769268e-01\n",
      "   1.7958790e-01 -1.6504744e-01]\n",
      " [-4.3971273e-01  4.7448748e-01 -3.4866995e-01 ...  4.5604077e-01\n",
      "   4.3880448e-01 -4.0345907e-01]]\n"
     ]
    }
   ],
   "source": [
    "import matplotlib.pyplot as plt\n",
    "\n",
    "def plot_graphs(history, str):\n",
    "    plt.plot(history.history[str])\n",
    "    plt.plot(history.history[\"val_\" + str])\n",
    "    plt.xlabel(\"Epochs\")\n",
    "    plt.ylabel(str)\n",
    "    plt.legend([str, \"val_\" + str])\n",
    "    plt.show()\n",
    "\n",
    "plot_graphs(history, \"accuracy\")\n",
    "plot_graphs(history, \"loss\")\n",
    "\n",
    "# decode the word index back to original word\n",
    "reverse_word_index = dict([(value, key) for (key, value) in word_index.items()])\n",
    "\n",
    "def decode_sentences(text):\n",
    "    return \" \".join([reverse_word_index.get(i, \"?\") for i in text])\n",
    "\n",
    "print(\"DECODE sentence\")\n",
    "print(decode_sentences(training_padded[0]))\n",
    "print(\"Original sentence\")\n",
    "print(training_sentences[0])\n",
    "print(\"Is_sarcasm:\")\n",
    "print(labels[0])\n",
    "\n",
    "e = model.layers[0]\n",
    "weights = e.get_weights()[0]\n",
    "print(weights)  # shape: (vocab_size, embedding_dim)"
   ]
  },
  {
   "cell_type": "markdown",
   "metadata": {},
   "source": [
    "## 7. Saving the model"
   ]
  },
  {
   "cell_type": "code",
   "execution_count": 11,
   "metadata": {},
   "outputs": [
    {
     "name": "stderr",
     "output_type": "stream",
     "text": [
      "d:\\#Code\\My Project\\Test\\JupiterNotebook\\venv\\Lib\\site-packages\\keras\\src\\engine\\training.py:3103: UserWarning: You are saving your model as an HDF5 file via `model.save()`. This file format is considered legacy. We recommend using instead the native Keras format, e.g. `model.save('my_model.keras')`.\n",
      "  saving_api.save_model(\n"
     ]
    }
   ],
   "source": [
    "# Saving the whole model\n",
    "# HDF5 format\n",
    "model.save(\"nn.h5\")\n",
    "# Saving only weight\n",
    "model.save_weights(\"nn_weight.h5\")\n",
    "# Saving only the architecture\n",
    "json_str = model.to_json()\n",
    "with open(\"nn_model.json\",\"w\") as f:\n",
    "    f.write(json_str)"
   ]
  },
  {
   "cell_type": "code",
   "execution_count": 12,
   "metadata": {},
   "outputs": [
    {
     "name": "stdout",
     "output_type": "stream",
     "text": [
      "1/1 [==============================] - 0s 66ms/step\n",
      "[[9.8697525e-01]\n",
      " [7.3364041e-05]]\n"
     ]
    }
   ],
   "source": [
    "sentence = [\"granny starting to fear spiders in the garden might be real\", \"game of thrones season finale showing this sunday night\"]\n",
    "sequences = tokenizer.texts_to_sequences(sentence)\n",
    "padded = tf.keras.preprocessing.sequence.pad_sequences(sequences, maxlen=max_length, padding=padding_type, truncating=trunc_type)\n",
    "print(model.predict(padded))"
   ]
  },
  {
   "cell_type": "markdown",
   "metadata": {},
   "source": [
    "## 8. Predict data using pre-trained model"
   ]
  },
  {
   "cell_type": "code",
   "execution_count": 10,
   "metadata": {},
   "outputs": [
    {
     "name": "stdout",
     "output_type": "stream",
     "text": [
      "Model: \"sequential\"\n",
      "_________________________________________________________________\n",
      " Layer (type)                Output Shape              Param #   \n",
      "=================================================================\n",
      " embedding (Embedding)       (None, 100, 16)           160000    \n",
      "                                                                 \n",
      " global_average_pooling1d (  (None, 16)                0         \n",
      " GlobalAveragePooling1D)                                         \n",
      "                                                                 \n",
      " dense (Dense)               (None, 24)                408       \n",
      "                                                                 \n",
      " dense_1 (Dense)             (None, 1)                 25        \n",
      "                                                                 \n",
      "=================================================================\n",
      "Total params: 160433 (626.69 KB)\n",
      "Trainable params: 160433 (626.69 KB)\n",
      "Non-trainable params: 0 (0.00 Byte)\n",
      "_________________________________________________________________\n",
      "1/1 [==============================] - 0s 45ms/step\n",
      "[[9.8697525e-01]\n",
      " [7.3364041e-05]]\n"
     ]
    }
   ],
   "source": [
    "\n",
    "# Data to predict\n",
    "sentences = [\n",
    "    \"granny starting to fear spiders in the garden might be real\",\n",
    "    \"game of thrones season finale showing this sunday night\",\n",
    "]\n",
    "\n",
    "pretrain_model = tf.keras.models.load_model(\"nn.h5\")\n",
    "pretrain_model.summary()\n",
    "\n",
    "sequences = tokenizer.texts_to_sequences(sentences)\n",
    "padded = tf.keras.preprocessing.sequence.pad_sequences(\n",
    "    sequences, maxlen=max_length, truncating=trunc_type, padding=padding_type\n",
    ")\n",
    "print(pretrain_model.predict(padded))"
   ]
  }
 ],
 "metadata": {
  "kernelspec": {
   "display_name": "Python 3 (ipykernel)",
   "language": "python",
   "name": "python3"
  },
  "language_info": {
   "codemirror_mode": {
    "name": "ipython",
    "version": 3
   },
   "file_extension": ".py",
   "mimetype": "text/x-python",
   "name": "python",
   "nbconvert_exporter": "python",
   "pygments_lexer": "ipython3",
   "version": "3.11.0"
  }
 },
 "nbformat": 4,
 "nbformat_minor": 4
}
